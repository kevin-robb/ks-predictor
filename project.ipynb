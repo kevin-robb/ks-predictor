{
 "metadata": {
  "language_info": {
   "codemirror_mode": {
    "name": "ipython",
    "version": 3
   },
   "file_extension": ".py",
   "mimetype": "text/x-python",
   "name": "python",
   "nbconvert_exporter": "python",
   "pygments_lexer": "ipython3",
   "version": "3.7.0-final"
  },
  "orig_nbformat": 2,
  "kernelspec": {
   "name": "Python 3.7.0 64-bit (conda)",
   "display_name": "Python 3.7.0 64-bit (conda)",
   "metadata": {
    "interpreter": {
     "hash": "c859a5f87f282e944b236ec2be1d34ca0f9383314b27eb5e07213c782117fae8"
    }
   }
  }
 },
 "nbformat": 4,
 "nbformat_minor": 2,
 "cells": [
  {
   "cell_type": "code",
   "execution_count": 81,
   "metadata": {},
   "outputs": [],
   "source": [
    "import pandas as pd\n",
    "import numpy as np\n",
    "from sklearn.preprocessing import LabelEncoder, OneHotEncoder\n",
    "from sklearn.pipeline import Pipeline\n",
    "from sklearn.base import BaseEstimator, TransformerMixin"
   ]
  },
  {
   "source": [
    "# Preprocessing"
   ],
   "cell_type": "markdown",
   "metadata": {}
  },
  {
   "cell_type": "code",
   "execution_count": 5,
   "metadata": {},
   "outputs": [
    {
     "output_type": "stream",
     "name": "stdout",
     "text": [
      "<class 'pandas.core.frame.DataFrame'>\nRangeIndex: 378661 entries, 0 to 378660\nData columns (total 15 columns):\nID                  378661 non-null int64\nname                378657 non-null object\ncategory            378661 non-null object\nmain_category       378661 non-null object\ncurrency            378661 non-null object\ndeadline            378661 non-null object\ngoal                378661 non-null float64\nlaunched            378661 non-null object\npledged             378661 non-null float64\nstate               378661 non-null object\nbackers             378661 non-null int64\ncountry             378661 non-null object\nusd pledged         374864 non-null float64\nusd_pledged_real    378661 non-null float64\nusd_goal_real       378661 non-null float64\ndtypes: float64(5), int64(2), object(8)\nmemory usage: 43.3+ MB\n"
     ]
    }
   ],
   "source": [
    "dir_name = str(\"./ks-projects-201801.csv\")\n",
    "data = pd.read_csv(dir_name)\n",
    "data.info()"
   ]
  },
  {
   "cell_type": "code",
   "execution_count": 32,
   "metadata": {},
   "outputs": [
    {
     "output_type": "execute_result",
     "data": {
      "text/plain": [
       "           ID                                               name  \\\n",
       "0  1000002330                    The Songs of Adelaide & Abullah   \n",
       "1  1000003930      Greeting From Earth: ZGAC Arts Capsule For ET   \n",
       "2  1000004038                                     Where is Hank?   \n",
       "3  1000007540  ToshiCapital Rekordz Needs Help to Complete Album   \n",
       "4  1000011046  Community Film Project: The Art of Neighborhoo...   \n",
       "\n",
       "         category main_category currency    deadline     goal  \\\n",
       "0          Poetry    Publishing      GBP  2015-10-09   1000.0   \n",
       "1  Narrative Film  Film & Video      USD  2017-11-01  30000.0   \n",
       "2  Narrative Film  Film & Video      USD  2013-02-26  45000.0   \n",
       "3           Music         Music      USD  2012-04-16   5000.0   \n",
       "4    Film & Video  Film & Video      USD  2015-08-29  19500.0   \n",
       "\n",
       "              launched  pledged     state  backers country  usd pledged  \\\n",
       "0  2015-08-11 12:12:28      0.0    failed        0      GB          0.0   \n",
       "1  2017-09-02 04:43:57   2421.0    failed       15      US        100.0   \n",
       "2  2013-01-12 00:20:50    220.0    failed        3      US        220.0   \n",
       "3  2012-03-17 03:24:11      1.0    failed        1      US          1.0   \n",
       "4  2015-07-04 08:35:03   1283.0  canceled       14      US       1283.0   \n",
       "\n",
       "   usd_pledged_real  usd_goal_real  \n",
       "0               0.0        1533.95  \n",
       "1            2421.0       30000.00  \n",
       "2             220.0       45000.00  \n",
       "3               1.0        5000.00  \n",
       "4            1283.0       19500.00  "
      ],
      "text/html": "<div>\n<style scoped>\n    .dataframe tbody tr th:only-of-type {\n        vertical-align: middle;\n    }\n\n    .dataframe tbody tr th {\n        vertical-align: top;\n    }\n\n    .dataframe thead th {\n        text-align: right;\n    }\n</style>\n<table border=\"1\" class=\"dataframe\">\n  <thead>\n    <tr style=\"text-align: right;\">\n      <th></th>\n      <th>ID</th>\n      <th>name</th>\n      <th>category</th>\n      <th>main_category</th>\n      <th>currency</th>\n      <th>deadline</th>\n      <th>goal</th>\n      <th>launched</th>\n      <th>pledged</th>\n      <th>state</th>\n      <th>backers</th>\n      <th>country</th>\n      <th>usd pledged</th>\n      <th>usd_pledged_real</th>\n      <th>usd_goal_real</th>\n    </tr>\n  </thead>\n  <tbody>\n    <tr>\n      <th>0</th>\n      <td>1000002330</td>\n      <td>The Songs of Adelaide &amp; Abullah</td>\n      <td>Poetry</td>\n      <td>Publishing</td>\n      <td>GBP</td>\n      <td>2015-10-09</td>\n      <td>1000.0</td>\n      <td>2015-08-11 12:12:28</td>\n      <td>0.0</td>\n      <td>failed</td>\n      <td>0</td>\n      <td>GB</td>\n      <td>0.0</td>\n      <td>0.0</td>\n      <td>1533.95</td>\n    </tr>\n    <tr>\n      <th>1</th>\n      <td>1000003930</td>\n      <td>Greeting From Earth: ZGAC Arts Capsule For ET</td>\n      <td>Narrative Film</td>\n      <td>Film &amp; Video</td>\n      <td>USD</td>\n      <td>2017-11-01</td>\n      <td>30000.0</td>\n      <td>2017-09-02 04:43:57</td>\n      <td>2421.0</td>\n      <td>failed</td>\n      <td>15</td>\n      <td>US</td>\n      <td>100.0</td>\n      <td>2421.0</td>\n      <td>30000.00</td>\n    </tr>\n    <tr>\n      <th>2</th>\n      <td>1000004038</td>\n      <td>Where is Hank?</td>\n      <td>Narrative Film</td>\n      <td>Film &amp; Video</td>\n      <td>USD</td>\n      <td>2013-02-26</td>\n      <td>45000.0</td>\n      <td>2013-01-12 00:20:50</td>\n      <td>220.0</td>\n      <td>failed</td>\n      <td>3</td>\n      <td>US</td>\n      <td>220.0</td>\n      <td>220.0</td>\n      <td>45000.00</td>\n    </tr>\n    <tr>\n      <th>3</th>\n      <td>1000007540</td>\n      <td>ToshiCapital Rekordz Needs Help to Complete Album</td>\n      <td>Music</td>\n      <td>Music</td>\n      <td>USD</td>\n      <td>2012-04-16</td>\n      <td>5000.0</td>\n      <td>2012-03-17 03:24:11</td>\n      <td>1.0</td>\n      <td>failed</td>\n      <td>1</td>\n      <td>US</td>\n      <td>1.0</td>\n      <td>1.0</td>\n      <td>5000.00</td>\n    </tr>\n    <tr>\n      <th>4</th>\n      <td>1000011046</td>\n      <td>Community Film Project: The Art of Neighborhoo...</td>\n      <td>Film &amp; Video</td>\n      <td>Film &amp; Video</td>\n      <td>USD</td>\n      <td>2015-08-29</td>\n      <td>19500.0</td>\n      <td>2015-07-04 08:35:03</td>\n      <td>1283.0</td>\n      <td>canceled</td>\n      <td>14</td>\n      <td>US</td>\n      <td>1283.0</td>\n      <td>1283.0</td>\n      <td>19500.00</td>\n    </tr>\n  </tbody>\n</table>\n</div>"
     },
     "metadata": {},
     "execution_count": 32
    }
   ],
   "source": [
    "data.head()"
   ]
  },
  {
   "cell_type": "code",
   "execution_count": 33,
   "metadata": {},
   "outputs": [
    {
     "output_type": "execute_result",
     "data": {
      "text/plain": [
       "                 ID          goal       pledged        backers   usd pledged  \\\n",
       "count  3.786610e+05  3.786610e+05  3.786610e+05  378661.000000  3.748640e+05   \n",
       "mean   1.074731e+09  4.908079e+04  9.682979e+03     105.617476  7.036729e+03   \n",
       "std    6.190862e+08  1.183391e+06  9.563601e+04     907.185035  7.863975e+04   \n",
       "min    5.971000e+03  1.000000e-02  0.000000e+00       0.000000  0.000000e+00   \n",
       "25%    5.382635e+08  2.000000e+03  3.000000e+01       2.000000  1.698000e+01   \n",
       "50%    1.075276e+09  5.200000e+03  6.200000e+02      12.000000  3.947200e+02   \n",
       "75%    1.610149e+09  1.600000e+04  4.076000e+03      56.000000  3.034090e+03   \n",
       "max    2.147476e+09  1.000000e+08  2.033899e+07  219382.000000  2.033899e+07   \n",
       "\n",
       "       usd_pledged_real  usd_goal_real  \n",
       "count      3.786610e+05   3.786610e+05  \n",
       "mean       9.058924e+03   4.545440e+04  \n",
       "std        9.097334e+04   1.152950e+06  \n",
       "min        0.000000e+00   1.000000e-02  \n",
       "25%        3.100000e+01   2.000000e+03  \n",
       "50%        6.243300e+02   5.500000e+03  \n",
       "75%        4.050000e+03   1.550000e+04  \n",
       "max        2.033899e+07   1.663614e+08  "
      ],
      "text/html": "<div>\n<style scoped>\n    .dataframe tbody tr th:only-of-type {\n        vertical-align: middle;\n    }\n\n    .dataframe tbody tr th {\n        vertical-align: top;\n    }\n\n    .dataframe thead th {\n        text-align: right;\n    }\n</style>\n<table border=\"1\" class=\"dataframe\">\n  <thead>\n    <tr style=\"text-align: right;\">\n      <th></th>\n      <th>ID</th>\n      <th>goal</th>\n      <th>pledged</th>\n      <th>backers</th>\n      <th>usd pledged</th>\n      <th>usd_pledged_real</th>\n      <th>usd_goal_real</th>\n    </tr>\n  </thead>\n  <tbody>\n    <tr>\n      <th>count</th>\n      <td>3.786610e+05</td>\n      <td>3.786610e+05</td>\n      <td>3.786610e+05</td>\n      <td>378661.000000</td>\n      <td>3.748640e+05</td>\n      <td>3.786610e+05</td>\n      <td>3.786610e+05</td>\n    </tr>\n    <tr>\n      <th>mean</th>\n      <td>1.074731e+09</td>\n      <td>4.908079e+04</td>\n      <td>9.682979e+03</td>\n      <td>105.617476</td>\n      <td>7.036729e+03</td>\n      <td>9.058924e+03</td>\n      <td>4.545440e+04</td>\n    </tr>\n    <tr>\n      <th>std</th>\n      <td>6.190862e+08</td>\n      <td>1.183391e+06</td>\n      <td>9.563601e+04</td>\n      <td>907.185035</td>\n      <td>7.863975e+04</td>\n      <td>9.097334e+04</td>\n      <td>1.152950e+06</td>\n    </tr>\n    <tr>\n      <th>min</th>\n      <td>5.971000e+03</td>\n      <td>1.000000e-02</td>\n      <td>0.000000e+00</td>\n      <td>0.000000</td>\n      <td>0.000000e+00</td>\n      <td>0.000000e+00</td>\n      <td>1.000000e-02</td>\n    </tr>\n    <tr>\n      <th>25%</th>\n      <td>5.382635e+08</td>\n      <td>2.000000e+03</td>\n      <td>3.000000e+01</td>\n      <td>2.000000</td>\n      <td>1.698000e+01</td>\n      <td>3.100000e+01</td>\n      <td>2.000000e+03</td>\n    </tr>\n    <tr>\n      <th>50%</th>\n      <td>1.075276e+09</td>\n      <td>5.200000e+03</td>\n      <td>6.200000e+02</td>\n      <td>12.000000</td>\n      <td>3.947200e+02</td>\n      <td>6.243300e+02</td>\n      <td>5.500000e+03</td>\n    </tr>\n    <tr>\n      <th>75%</th>\n      <td>1.610149e+09</td>\n      <td>1.600000e+04</td>\n      <td>4.076000e+03</td>\n      <td>56.000000</td>\n      <td>3.034090e+03</td>\n      <td>4.050000e+03</td>\n      <td>1.550000e+04</td>\n    </tr>\n    <tr>\n      <th>max</th>\n      <td>2.147476e+09</td>\n      <td>1.000000e+08</td>\n      <td>2.033899e+07</td>\n      <td>219382.000000</td>\n      <td>2.033899e+07</td>\n      <td>2.033899e+07</td>\n      <td>1.663614e+08</td>\n    </tr>\n  </tbody>\n</table>\n</div>"
     },
     "metadata": {},
     "execution_count": 33
    }
   ],
   "source": [
    "data.describe()"
   ]
  },
  {
   "cell_type": "code",
   "execution_count": 26,
   "metadata": {},
   "outputs": [
    {
     "output_type": "execute_result",
     "data": {
      "text/plain": [
       "Index(['ID', 'name', 'category', 'main_category', 'currency', 'deadline',\n",
       "       'goal', 'launched', 'pledged', 'state', 'backers', 'country',\n",
       "       'usd pledged', 'usd_pledged_real', 'usd_goal_real'],\n",
       "      dtype='object')"
      ]
     },
     "metadata": {},
     "execution_count": 26
    }
   ],
   "source": [
    "cols = data.columns \n",
    "cols"
   ]
  },
  {
   "cell_type": "code",
   "execution_count": 82,
   "metadata": {},
   "outputs": [
    {
     "output_type": "execute_result",
     "data": {
      "text/plain": [
       "                ID                                               name  \\\n",
       "169     1000694855                      STREETFIGHTERZ WHEELIE MURICA   \n",
       "328      100149523                        Duncan Woods - Chameleon EP   \n",
       "632     1003023003          The Making of Ashley Kelley's Debut Album   \n",
       "647     1003130892                       Butter Side Down Debut Album   \n",
       "749     1003629045                            Chase Goehring debut EP   \n",
       "824     1004013077           Spencer Capier Instrumental Project 2015   \n",
       "844     1004126342  LUKAS LIGETI'S 50TH BIRTHDAY FESTIVAL: ORIGINA...   \n",
       "864     1004255433      The Battle For Breukelen: A Neighborhood Epic   \n",
       "870     1004298993  \"Tamboura Plays Violin\" - a collection of Pop ...   \n",
       "890     1004402863        Nightingale Noel - An A Cappella Holiday CD   \n",
       "1026    1005185256                             Local Music Connection   \n",
       "1036     100522240  DO NOT DUPLICATE - Selected by 2015 Devon Film...   \n",
       "1116    1005653464                                       SA-4 Studios   \n",
       "1250    1006327667                           Letters to the Wild - EP   \n",
       "1684    1008671527                          The Fitness Mindset   :-)   \n",
       "1685    1008675685               Inspired & the Sleep EP - Eyelid Kid   \n",
       "1718    1008815806  Into Winter: An Instrumental Christmas Experiment   \n",
       "1784    1009154868       Help advance scientific guitar & bass design   \n",
       "1817    1009312309                                        Mr. Pickles   \n",
       "1892    1009774693                Universal Peace | Universal Justice   \n",
       "1961    1010217550                               Solarboot-Havel-Tour   \n",
       "2053    1010694326                                          Surrender   \n",
       "2201    1011508551                               EBENEZER Solo Record   \n",
       "2304    1011952280                         NHSOB Summer Festival 2015   \n",
       "2326    1012058337                                        Degobah Max   \n",
       "2395    1012414277    WE ARE WHO WE ARE BUT WHATEVER WE WANT TO BE!!!   \n",
       "2451    1012704793                               Life In The Bus Lane   \n",
       "2457    1012744036          An Oratorio for our Time - Last Stop Cafe   \n",
       "2478    1012807897                                  Juliet Remembered   \n",
       "2606    1013389538  Make admission to the London Music Awards cere...   \n",
       "...            ...                                                ...   \n",
       "375347   982862687                                    Bydlo - A Novel   \n",
       "375359   982919439                                              Faith   \n",
       "375512   983728691                   The Octopodes' 5th Studio Album!   \n",
       "375765   985231591                                           TWO FISH   \n",
       "375980   986253191  DEVELOP MAGAZINE FOR THE ARTS, MUSIC, AND DESI...   \n",
       "376025   986471034     Help Revival finish their new album, Guidance.   \n",
       "376187    98744618                         Vinyl for Dancing Pigeons!   \n",
       "376470   988763792    Maud Sings Maud: A Musical Betsy-Tacy Companion   \n",
       "376560   989218116                   Keep on Movin' - The Debut Album   \n",
       "376603   989499289                                          Sojourner   \n",
       "376674   989874415                        Love and Soul through Sound   \n",
       "376970   991409513                          Chris Copeland's First EP   \n",
       "376984   991483230  Support Vocal Synergy's Second Semester and Te...   \n",
       "377043   991820324                                  The Blend CD 2015   \n",
       "377158   992433603                                  Jonny Come Lately   \n",
       "377472   994080962                                    Maximum Coppage   \n",
       "377569   994621918                                        Star Sailor   \n",
       "377638   994911312                    \"Songwriter assistance\" service   \n",
       "377640   994933706                             Whiskey and Holy Water   \n",
       "377872    99613274               Double EP and Music Video Fundraiser   \n",
       "378011   996908566                  The World Needs More Big Thinkers   \n",
       "378100    99739483                                       No More Fear   \n",
       "378142   997554968  Susan Picking: Making Music with Kids in the S...   \n",
       "378188   997793413         Whisper Violet - Honors Senior Thesis Film   \n",
       "378219   997915422                    Otter's First Full Length Album   \n",
       "378233   997971307  EQUUS International Film Festival®, all-equine...   \n",
       "378303   998319149                            Emily 2050 - Short Film   \n",
       "378434     9988744                             Matthew Stephens Music   \n",
       "378585   999610349     Lady Vendredi: Afrofuturist concept 12 inch EP   \n",
       "378588   999621278                     Jeune auteur a besoin de vous!   \n",
       "\n",
       "            category main_category currency    deadline     goal  \\\n",
       "169     Film & Video  Film & Video      USD  2014-09-20   6500.0   \n",
       "328            Music         Music      AUD  2015-08-25   4500.0   \n",
       "632            Music         Music      USD  2015-04-09   3500.0   \n",
       "647            Music         Music      USD  2015-11-26   6000.0   \n",
       "749            Music         Music      USD  2016-03-21   3000.0   \n",
       "824            Music         Music      CAD  2014-10-10   4000.0   \n",
       "844            Music         Music      USD  2015-06-11   5000.0   \n",
       "864     Film & Video  Film & Video      USD  2015-11-07   6000.0   \n",
       "870            Music         Music      USD  2015-03-28   2750.0   \n",
       "890            Music         Music      USD  2015-12-11   1200.0   \n",
       "1026           Music         Music      USD  2015-12-18   1500.0   \n",
       "1036    Film & Video  Film & Video      GBP  2015-04-10   1500.0   \n",
       "1116           Music         Music      USD  2015-03-25   5000.0   \n",
       "1250           Music         Music      USD  2014-10-31   2000.0   \n",
       "1684      Publishing    Publishing      EUR  2015-11-17   8000.0   \n",
       "1685           Music         Music      USD  2015-10-30   2000.0   \n",
       "1718           Music         Music      USD  2014-10-11   2000.0   \n",
       "1784           Music         Music      USD  2016-03-12   5000.0   \n",
       "1817      Publishing    Publishing      USD  2015-05-01   3750.0   \n",
       "1892           Music         Music      USD  2014-09-06   2500.0   \n",
       "1961           Music         Music      EUR  2015-05-31   2500.0   \n",
       "2053           Music         Music      CAD  2015-01-30   5000.0   \n",
       "2201           Music         Music      USD  2015-05-30   8000.0   \n",
       "2304           Music         Music      GBP  2015-05-15   3000.0   \n",
       "2326           Music         Music      USD  2015-12-05   4500.0   \n",
       "2395           Music         Music      USD  2015-08-31   3000.0   \n",
       "2451    Film & Video  Film & Video      USD  2014-12-21   7500.0   \n",
       "2457           Music         Music      USD  2016-05-26   5000.0   \n",
       "2478    Film & Video  Film & Video      GBP  2016-02-06   6500.0   \n",
       "2606           Music         Music      CAD  2015-06-09   3500.0   \n",
       "...              ...           ...      ...         ...      ...   \n",
       "375347    Publishing    Publishing      GBP  2015-06-01   3000.0   \n",
       "375359  Film & Video  Film & Video      USD  2016-05-06   9000.0   \n",
       "375512         Music         Music      USD  2016-01-05   8000.0   \n",
       "375765  Film & Video  Film & Video      USD  2014-05-17   8000.0   \n",
       "375980    Publishing    Publishing      USD  2015-02-28   5000.0   \n",
       "376025         Music         Music      USD  2015-05-02   2500.0   \n",
       "376187         Music         Music      SEK  2016-04-16  33000.0   \n",
       "376470         Music         Music      USD  2015-12-03   6500.0   \n",
       "376560         Music         Music      GBP  2014-11-19   1300.0   \n",
       "376603         Music         Music      USD  2016-04-11   2500.0   \n",
       "376674         Music         Music      USD  2015-06-27   3000.0   \n",
       "376970         Music         Music      USD  2015-02-28   5500.0   \n",
       "376984         Music         Music      USD  2015-12-20   3400.0   \n",
       "377043         Music         Music      USD  2015-05-15   8000.0   \n",
       "377158  Film & Video  Film & Video      USD  2014-12-24   8500.0   \n",
       "377472  Film & Video  Film & Video      USD  2014-08-19   3000.0   \n",
       "377569  Film & Video  Film & Video      USD  2016-01-01   8000.0   \n",
       "377638         Music         Music      CAD  2014-12-22   5000.0   \n",
       "377640         Music         Music      USD  2015-05-11   6500.0   \n",
       "377872         Music         Music      GBP  2015-12-02   3000.0   \n",
       "378011    Publishing    Publishing      USD  2015-09-13   8000.0   \n",
       "378100         Music         Music      GBP  2016-04-17   2500.0   \n",
       "378142         Music         Music      USD  2015-03-01   8000.0   \n",
       "378188  Film & Video  Film & Video      USD  2016-05-14   2000.0   \n",
       "378219         Music         Music      USD  2015-12-31   5000.0   \n",
       "378233  Film & Video  Film & Video      USD  2015-02-03   7500.0   \n",
       "378303  Film & Video  Film & Video      CAD  2014-05-23   3000.0   \n",
       "378434         Music         Music      USD  2016-02-05   5000.0   \n",
       "378585         Music         Music      GBP  2015-10-19   2000.0   \n",
       "378588    Publishing    Publishing      EUR  2015-11-20   1600.0   \n",
       "\n",
       "                   launched  pledged       state  backers country  \\\n",
       "169     2014-08-06 21:28:36   555.00   undefined        0    N,0\"   \n",
       "328     2015-08-04 12:05:17  4767.00   undefined        0    N,0\"   \n",
       "632     2015-03-10 20:06:13  3576.00   undefined        0    N,0\"   \n",
       "647     2015-11-02 22:09:19  7007.80   undefined        0    N,0\"   \n",
       "749     2016-02-23 03:09:49  3660.38   undefined        0    N,0\"   \n",
       "824     2014-09-10 22:51:01  4760.00   undefined        0    N,0\"   \n",
       "844     2015-05-15 02:12:35  6370.00   undefined        0    N,0\"   \n",
       "864     2015-10-10 18:45:24  6695.00   undefined        0    N,0\"   \n",
       "870     2015-02-11 19:28:27  2926.00   undefined        0    N,0\"   \n",
       "890     2015-11-11 21:02:55  1585.00   undefined        0    N,0\"   \n",
       "1026    2015-11-18 21:50:04    69.00   undefined        0    N,0\"   \n",
       "1036    2015-03-11 22:07:00   277.00   undefined        0    N,0\"   \n",
       "1116    2015-01-24 18:33:14     0.00   undefined        0    N,0\"   \n",
       "1250    2014-10-02 22:48:31  2560.00   undefined        0    N,0\"   \n",
       "1684    2015-10-13 15:45:38    30.00   undefined        0    N,0\"   \n",
       "1685    2015-10-04 21:48:11  2079.00   undefined        0    N,0\"   \n",
       "1718    2014-09-10 23:23:40  2085.00   undefined        0    N,0\"   \n",
       "1784    2016-02-11 01:42:44   121.00   undefined        0    N,0\"   \n",
       "1817    2015-04-01 16:36:51   230.00   undefined        0    N,0\"   \n",
       "1892    2014-07-29 23:01:07  2720.00   undefined        0    N,0\"   \n",
       "1961    2015-05-14 23:05:51  2620.00   undefined        0    N,0\"   \n",
       "2053    2014-12-29 01:27:30  5197.00   undefined        0    N,0\"   \n",
       "2201    2015-04-20 17:33:24  8361.00   undefined        0    N,0\"   \n",
       "2304    2015-03-31 17:21:17    34.00   undefined        0    N,0\"   \n",
       "2326    2015-11-06 21:55:39     0.00   undefined        0    N,0\"   \n",
       "2395    2015-07-13 17:09:24     0.00   undefined        0    N,0\"   \n",
       "2451    2014-11-21 05:09:09  9329.00   undefined        0    N,0\"   \n",
       "2457    2016-04-26 19:46:26  5170.00  successful        0    N,0\"   \n",
       "2478    2016-01-07 13:44:33  6660.12   undefined        0    N,0\"   \n",
       "2606    2015-05-10 15:22:18   207.00   undefined        0    N,0\"   \n",
       "...                     ...      ...         ...      ...     ...   \n",
       "375347  2015-04-02 12:51:16     0.00   undefined        0    N,0\"   \n",
       "375359  2016-03-07 04:17:33     2.00      failed        0    N,0\"   \n",
       "375512  2015-11-19 23:43:09  8025.00   undefined        0    N,0\"   \n",
       "375765  2014-04-21 21:52:55  8562.00   undefined        0    N,0\"   \n",
       "375980  2015-01-29 17:43:13     0.00   undefined        0    N,0\"   \n",
       "376025  2015-04-03 11:16:00   420.00   undefined        0    N,0\"   \n",
       "376187  2016-03-17 13:42:54  1105.00   undefined        0    N,0\"   \n",
       "376470  2015-10-04 00:55:19  7814.00   undefined        0    N,0\"   \n",
       "376560  2014-10-22 22:22:14     2.00   undefined        0    N,0\"   \n",
       "376603  2016-03-12 23:22:51    80.00   undefined        0    N,0\"   \n",
       "376674  2015-05-28 17:17:08    45.00   undefined        0    N,0\"   \n",
       "376970  2015-01-29 02:58:24  5763.00   undefined        0    N,0\"   \n",
       "376984  2015-12-05 05:10:10  3435.00   undefined        0    N,0\"   \n",
       "377043  2015-04-15 00:07:51  8156.00   undefined        0    N,0\"   \n",
       "377158  2014-11-24 20:47:45  9146.00   undefined        0    N,0\"   \n",
       "377472  2014-07-18 03:42:11  3175.00   undefined        0    N,0\"   \n",
       "377569  2015-12-03 20:25:41  8061.00   undefined        0    N,0\"   \n",
       "377638  2014-11-22 00:56:04     0.00   undefined        0    N,0\"   \n",
       "377640  2015-03-25 03:55:53  6696.00   undefined        0    N,0\"   \n",
       "377872  2015-11-02 09:33:38  3517.00   undefined        0    N,0\"   \n",
       "378011  2015-07-30 03:01:31     0.00   undefined        0    N,0\"   \n",
       "378100  2016-03-17 13:43:26  2500.00   undefined        0    N,0\"   \n",
       "378142  2015-01-31 20:58:01  8582.00   undefined        0    N,0\"   \n",
       "378188  2016-04-14 01:27:27  2300.00  successful        0    N,0\"   \n",
       "378219  2015-12-01 00:25:06  6065.26   undefined        0    N,0\"   \n",
       "378233  2014-12-05 04:19:14    10.00   undefined        0    N,0\"   \n",
       "378303  2014-04-08 00:30:09  3102.00   undefined        0    N,0\"   \n",
       "378434  2016-01-06 21:59:23   235.00   undefined        0    N,0\"   \n",
       "378585  2015-09-21 22:33:18  2125.00   undefined        0    N,0\"   \n",
       "378588  2015-10-21 21:28:13     0.00   undefined        0    N,0\"   \n",
       "\n",
       "        usd pledged  usd_pledged_real  usd_goal_real  \n",
       "169             NaN            555.00        6500.00  \n",
       "328             NaN           3402.08        3211.53  \n",
       "632             NaN           3576.00        3500.00  \n",
       "647             NaN           7007.80        6000.00  \n",
       "749             NaN           3660.38        3000.00  \n",
       "824             NaN           4251.14        3572.39  \n",
       "844             NaN           6370.00        5000.00  \n",
       "864             NaN           6695.00        6000.00  \n",
       "870             NaN           2926.00        2750.00  \n",
       "890             NaN           1585.00        1200.00  \n",
       "1026            NaN             69.00        1500.00  \n",
       "1036            NaN            404.18        2188.69  \n",
       "1116            NaN              0.00        5000.00  \n",
       "1250            NaN           2560.00        2000.00  \n",
       "1684            NaN             32.06        8550.39  \n",
       "1685            NaN           2079.00        2000.00  \n",
       "1718            NaN           2085.00        2000.00  \n",
       "1784            NaN            121.00        5000.00  \n",
       "1817            NaN            230.00        3750.00  \n",
       "1892            NaN           2720.00        2500.00  \n",
       "1961            NaN           2939.13        2804.51  \n",
       "2053            NaN           4101.82        3946.33  \n",
       "2201            NaN           8361.00        8000.00  \n",
       "2304            NaN             53.41        4712.83  \n",
       "2326            NaN              0.00        4500.00  \n",
       "2395            NaN              0.00        3000.00  \n",
       "2451            NaN           9329.00        7500.00  \n",
       "2457            NaN           5170.00        5000.00  \n",
       "2478            NaN           9660.05        9427.80  \n",
       "2606            NaN            168.25        2844.83  \n",
       "...             ...               ...            ...  \n",
       "375347          NaN              0.00        4599.39  \n",
       "375359          NaN              2.00        9000.00  \n",
       "375512          NaN           8025.00        8000.00  \n",
       "375765          NaN           8562.00        8000.00  \n",
       "375980          NaN              0.00        5000.00  \n",
       "376025          NaN            420.00        2500.00  \n",
       "376187          NaN            136.19        4067.35  \n",
       "376470          NaN           7814.00        6500.00  \n",
       "376560          NaN              3.14        2038.70  \n",
       "376603          NaN             80.00        2500.00  \n",
       "376674          NaN             45.00        3000.00  \n",
       "376970          NaN           5763.00        5500.00  \n",
       "376984          NaN           3435.00        3400.00  \n",
       "377043          NaN           8156.00        8000.00  \n",
       "377158          NaN           9146.00        8500.00  \n",
       "377472          NaN           3175.00        3000.00  \n",
       "377569          NaN           8061.00        8000.00  \n",
       "377638          NaN              0.00        4313.32  \n",
       "377640          NaN           6696.00        6500.00  \n",
       "377872          NaN           5324.59        4541.88  \n",
       "378011          NaN              0.00        8000.00  \n",
       "378100          NaN           3594.48        3594.48  \n",
       "378142          NaN           8582.00        8000.00  \n",
       "378188          NaN           2300.00        2000.00  \n",
       "378219          NaN           6065.26        5000.00  \n",
       "378233          NaN             10.00        7500.00  \n",
       "378303          NaN           2845.61        2752.04  \n",
       "378434          NaN            235.00        5000.00  \n",
       "378585          NaN           3273.36        3080.81  \n",
       "378588          NaN              0.00        1710.08  \n",
       "\n",
       "[3801 rows x 15 columns]"
      ],
      "text/html": "<div>\n<style scoped>\n    .dataframe tbody tr th:only-of-type {\n        vertical-align: middle;\n    }\n\n    .dataframe tbody tr th {\n        vertical-align: top;\n    }\n\n    .dataframe thead th {\n        text-align: right;\n    }\n</style>\n<table border=\"1\" class=\"dataframe\">\n  <thead>\n    <tr style=\"text-align: right;\">\n      <th></th>\n      <th>ID</th>\n      <th>name</th>\n      <th>category</th>\n      <th>main_category</th>\n      <th>currency</th>\n      <th>deadline</th>\n      <th>goal</th>\n      <th>launched</th>\n      <th>pledged</th>\n      <th>state</th>\n      <th>backers</th>\n      <th>country</th>\n      <th>usd pledged</th>\n      <th>usd_pledged_real</th>\n      <th>usd_goal_real</th>\n    </tr>\n  </thead>\n  <tbody>\n    <tr>\n      <th>169</th>\n      <td>1000694855</td>\n      <td>STREETFIGHTERZ WHEELIE MURICA</td>\n      <td>Film &amp; Video</td>\n      <td>Film &amp; Video</td>\n      <td>USD</td>\n      <td>2014-09-20</td>\n      <td>6500.0</td>\n      <td>2014-08-06 21:28:36</td>\n      <td>555.00</td>\n      <td>undefined</td>\n      <td>0</td>\n      <td>N,0\"</td>\n      <td>NaN</td>\n      <td>555.00</td>\n      <td>6500.00</td>\n    </tr>\n    <tr>\n      <th>328</th>\n      <td>100149523</td>\n      <td>Duncan Woods - Chameleon EP</td>\n      <td>Music</td>\n      <td>Music</td>\n      <td>AUD</td>\n      <td>2015-08-25</td>\n      <td>4500.0</td>\n      <td>2015-08-04 12:05:17</td>\n      <td>4767.00</td>\n      <td>undefined</td>\n      <td>0</td>\n      <td>N,0\"</td>\n      <td>NaN</td>\n      <td>3402.08</td>\n      <td>3211.53</td>\n    </tr>\n    <tr>\n      <th>632</th>\n      <td>1003023003</td>\n      <td>The Making of Ashley Kelley's Debut Album</td>\n      <td>Music</td>\n      <td>Music</td>\n      <td>USD</td>\n      <td>2015-04-09</td>\n      <td>3500.0</td>\n      <td>2015-03-10 20:06:13</td>\n      <td>3576.00</td>\n      <td>undefined</td>\n      <td>0</td>\n      <td>N,0\"</td>\n      <td>NaN</td>\n      <td>3576.00</td>\n      <td>3500.00</td>\n    </tr>\n    <tr>\n      <th>647</th>\n      <td>1003130892</td>\n      <td>Butter Side Down Debut Album</td>\n      <td>Music</td>\n      <td>Music</td>\n      <td>USD</td>\n      <td>2015-11-26</td>\n      <td>6000.0</td>\n      <td>2015-11-02 22:09:19</td>\n      <td>7007.80</td>\n      <td>undefined</td>\n      <td>0</td>\n      <td>N,0\"</td>\n      <td>NaN</td>\n      <td>7007.80</td>\n      <td>6000.00</td>\n    </tr>\n    <tr>\n      <th>749</th>\n      <td>1003629045</td>\n      <td>Chase Goehring debut EP</td>\n      <td>Music</td>\n      <td>Music</td>\n      <td>USD</td>\n      <td>2016-03-21</td>\n      <td>3000.0</td>\n      <td>2016-02-23 03:09:49</td>\n      <td>3660.38</td>\n      <td>undefined</td>\n      <td>0</td>\n      <td>N,0\"</td>\n      <td>NaN</td>\n      <td>3660.38</td>\n      <td>3000.00</td>\n    </tr>\n    <tr>\n      <th>824</th>\n      <td>1004013077</td>\n      <td>Spencer Capier Instrumental Project 2015</td>\n      <td>Music</td>\n      <td>Music</td>\n      <td>CAD</td>\n      <td>2014-10-10</td>\n      <td>4000.0</td>\n      <td>2014-09-10 22:51:01</td>\n      <td>4760.00</td>\n      <td>undefined</td>\n      <td>0</td>\n      <td>N,0\"</td>\n      <td>NaN</td>\n      <td>4251.14</td>\n      <td>3572.39</td>\n    </tr>\n    <tr>\n      <th>844</th>\n      <td>1004126342</td>\n      <td>LUKAS LIGETI'S 50TH BIRTHDAY FESTIVAL: ORIGINA...</td>\n      <td>Music</td>\n      <td>Music</td>\n      <td>USD</td>\n      <td>2015-06-11</td>\n      <td>5000.0</td>\n      <td>2015-05-15 02:12:35</td>\n      <td>6370.00</td>\n      <td>undefined</td>\n      <td>0</td>\n      <td>N,0\"</td>\n      <td>NaN</td>\n      <td>6370.00</td>\n      <td>5000.00</td>\n    </tr>\n    <tr>\n      <th>864</th>\n      <td>1004255433</td>\n      <td>The Battle For Breukelen: A Neighborhood Epic</td>\n      <td>Film &amp; Video</td>\n      <td>Film &amp; Video</td>\n      <td>USD</td>\n      <td>2015-11-07</td>\n      <td>6000.0</td>\n      <td>2015-10-10 18:45:24</td>\n      <td>6695.00</td>\n      <td>undefined</td>\n      <td>0</td>\n      <td>N,0\"</td>\n      <td>NaN</td>\n      <td>6695.00</td>\n      <td>6000.00</td>\n    </tr>\n    <tr>\n      <th>870</th>\n      <td>1004298993</td>\n      <td>\"Tamboura Plays Violin\" - a collection of Pop ...</td>\n      <td>Music</td>\n      <td>Music</td>\n      <td>USD</td>\n      <td>2015-03-28</td>\n      <td>2750.0</td>\n      <td>2015-02-11 19:28:27</td>\n      <td>2926.00</td>\n      <td>undefined</td>\n      <td>0</td>\n      <td>N,0\"</td>\n      <td>NaN</td>\n      <td>2926.00</td>\n      <td>2750.00</td>\n    </tr>\n    <tr>\n      <th>890</th>\n      <td>1004402863</td>\n      <td>Nightingale Noel - An A Cappella Holiday CD</td>\n      <td>Music</td>\n      <td>Music</td>\n      <td>USD</td>\n      <td>2015-12-11</td>\n      <td>1200.0</td>\n      <td>2015-11-11 21:02:55</td>\n      <td>1585.00</td>\n      <td>undefined</td>\n      <td>0</td>\n      <td>N,0\"</td>\n      <td>NaN</td>\n      <td>1585.00</td>\n      <td>1200.00</td>\n    </tr>\n    <tr>\n      <th>1026</th>\n      <td>1005185256</td>\n      <td>Local Music Connection</td>\n      <td>Music</td>\n      <td>Music</td>\n      <td>USD</td>\n      <td>2015-12-18</td>\n      <td>1500.0</td>\n      <td>2015-11-18 21:50:04</td>\n      <td>69.00</td>\n      <td>undefined</td>\n      <td>0</td>\n      <td>N,0\"</td>\n      <td>NaN</td>\n      <td>69.00</td>\n      <td>1500.00</td>\n    </tr>\n    <tr>\n      <th>1036</th>\n      <td>100522240</td>\n      <td>DO NOT DUPLICATE - Selected by 2015 Devon Film...</td>\n      <td>Film &amp; Video</td>\n      <td>Film &amp; Video</td>\n      <td>GBP</td>\n      <td>2015-04-10</td>\n      <td>1500.0</td>\n      <td>2015-03-11 22:07:00</td>\n      <td>277.00</td>\n      <td>undefined</td>\n      <td>0</td>\n      <td>N,0\"</td>\n      <td>NaN</td>\n      <td>404.18</td>\n      <td>2188.69</td>\n    </tr>\n    <tr>\n      <th>1116</th>\n      <td>1005653464</td>\n      <td>SA-4 Studios</td>\n      <td>Music</td>\n      <td>Music</td>\n      <td>USD</td>\n      <td>2015-03-25</td>\n      <td>5000.0</td>\n      <td>2015-01-24 18:33:14</td>\n      <td>0.00</td>\n      <td>undefined</td>\n      <td>0</td>\n      <td>N,0\"</td>\n      <td>NaN</td>\n      <td>0.00</td>\n      <td>5000.00</td>\n    </tr>\n    <tr>\n      <th>1250</th>\n      <td>1006327667</td>\n      <td>Letters to the Wild - EP</td>\n      <td>Music</td>\n      <td>Music</td>\n      <td>USD</td>\n      <td>2014-10-31</td>\n      <td>2000.0</td>\n      <td>2014-10-02 22:48:31</td>\n      <td>2560.00</td>\n      <td>undefined</td>\n      <td>0</td>\n      <td>N,0\"</td>\n      <td>NaN</td>\n      <td>2560.00</td>\n      <td>2000.00</td>\n    </tr>\n    <tr>\n      <th>1684</th>\n      <td>1008671527</td>\n      <td>The Fitness Mindset   :-)</td>\n      <td>Publishing</td>\n      <td>Publishing</td>\n      <td>EUR</td>\n      <td>2015-11-17</td>\n      <td>8000.0</td>\n      <td>2015-10-13 15:45:38</td>\n      <td>30.00</td>\n      <td>undefined</td>\n      <td>0</td>\n      <td>N,0\"</td>\n      <td>NaN</td>\n      <td>32.06</td>\n      <td>8550.39</td>\n    </tr>\n    <tr>\n      <th>1685</th>\n      <td>1008675685</td>\n      <td>Inspired &amp; the Sleep EP - Eyelid Kid</td>\n      <td>Music</td>\n      <td>Music</td>\n      <td>USD</td>\n      <td>2015-10-30</td>\n      <td>2000.0</td>\n      <td>2015-10-04 21:48:11</td>\n      <td>2079.00</td>\n      <td>undefined</td>\n      <td>0</td>\n      <td>N,0\"</td>\n      <td>NaN</td>\n      <td>2079.00</td>\n      <td>2000.00</td>\n    </tr>\n    <tr>\n      <th>1718</th>\n      <td>1008815806</td>\n      <td>Into Winter: An Instrumental Christmas Experiment</td>\n      <td>Music</td>\n      <td>Music</td>\n      <td>USD</td>\n      <td>2014-10-11</td>\n      <td>2000.0</td>\n      <td>2014-09-10 23:23:40</td>\n      <td>2085.00</td>\n      <td>undefined</td>\n      <td>0</td>\n      <td>N,0\"</td>\n      <td>NaN</td>\n      <td>2085.00</td>\n      <td>2000.00</td>\n    </tr>\n    <tr>\n      <th>1784</th>\n      <td>1009154868</td>\n      <td>Help advance scientific guitar &amp; bass design</td>\n      <td>Music</td>\n      <td>Music</td>\n      <td>USD</td>\n      <td>2016-03-12</td>\n      <td>5000.0</td>\n      <td>2016-02-11 01:42:44</td>\n      <td>121.00</td>\n      <td>undefined</td>\n      <td>0</td>\n      <td>N,0\"</td>\n      <td>NaN</td>\n      <td>121.00</td>\n      <td>5000.00</td>\n    </tr>\n    <tr>\n      <th>1817</th>\n      <td>1009312309</td>\n      <td>Mr. Pickles</td>\n      <td>Publishing</td>\n      <td>Publishing</td>\n      <td>USD</td>\n      <td>2015-05-01</td>\n      <td>3750.0</td>\n      <td>2015-04-01 16:36:51</td>\n      <td>230.00</td>\n      <td>undefined</td>\n      <td>0</td>\n      <td>N,0\"</td>\n      <td>NaN</td>\n      <td>230.00</td>\n      <td>3750.00</td>\n    </tr>\n    <tr>\n      <th>1892</th>\n      <td>1009774693</td>\n      <td>Universal Peace | Universal Justice</td>\n      <td>Music</td>\n      <td>Music</td>\n      <td>USD</td>\n      <td>2014-09-06</td>\n      <td>2500.0</td>\n      <td>2014-07-29 23:01:07</td>\n      <td>2720.00</td>\n      <td>undefined</td>\n      <td>0</td>\n      <td>N,0\"</td>\n      <td>NaN</td>\n      <td>2720.00</td>\n      <td>2500.00</td>\n    </tr>\n    <tr>\n      <th>1961</th>\n      <td>1010217550</td>\n      <td>Solarboot-Havel-Tour</td>\n      <td>Music</td>\n      <td>Music</td>\n      <td>EUR</td>\n      <td>2015-05-31</td>\n      <td>2500.0</td>\n      <td>2015-05-14 23:05:51</td>\n      <td>2620.00</td>\n      <td>undefined</td>\n      <td>0</td>\n      <td>N,0\"</td>\n      <td>NaN</td>\n      <td>2939.13</td>\n      <td>2804.51</td>\n    </tr>\n    <tr>\n      <th>2053</th>\n      <td>1010694326</td>\n      <td>Surrender</td>\n      <td>Music</td>\n      <td>Music</td>\n      <td>CAD</td>\n      <td>2015-01-30</td>\n      <td>5000.0</td>\n      <td>2014-12-29 01:27:30</td>\n      <td>5197.00</td>\n      <td>undefined</td>\n      <td>0</td>\n      <td>N,0\"</td>\n      <td>NaN</td>\n      <td>4101.82</td>\n      <td>3946.33</td>\n    </tr>\n    <tr>\n      <th>2201</th>\n      <td>1011508551</td>\n      <td>EBENEZER Solo Record</td>\n      <td>Music</td>\n      <td>Music</td>\n      <td>USD</td>\n      <td>2015-05-30</td>\n      <td>8000.0</td>\n      <td>2015-04-20 17:33:24</td>\n      <td>8361.00</td>\n      <td>undefined</td>\n      <td>0</td>\n      <td>N,0\"</td>\n      <td>NaN</td>\n      <td>8361.00</td>\n      <td>8000.00</td>\n    </tr>\n    <tr>\n      <th>2304</th>\n      <td>1011952280</td>\n      <td>NHSOB Summer Festival 2015</td>\n      <td>Music</td>\n      <td>Music</td>\n      <td>GBP</td>\n      <td>2015-05-15</td>\n      <td>3000.0</td>\n      <td>2015-03-31 17:21:17</td>\n      <td>34.00</td>\n      <td>undefined</td>\n      <td>0</td>\n      <td>N,0\"</td>\n      <td>NaN</td>\n      <td>53.41</td>\n      <td>4712.83</td>\n    </tr>\n    <tr>\n      <th>2326</th>\n      <td>1012058337</td>\n      <td>Degobah Max</td>\n      <td>Music</td>\n      <td>Music</td>\n      <td>USD</td>\n      <td>2015-12-05</td>\n      <td>4500.0</td>\n      <td>2015-11-06 21:55:39</td>\n      <td>0.00</td>\n      <td>undefined</td>\n      <td>0</td>\n      <td>N,0\"</td>\n      <td>NaN</td>\n      <td>0.00</td>\n      <td>4500.00</td>\n    </tr>\n    <tr>\n      <th>2395</th>\n      <td>1012414277</td>\n      <td>WE ARE WHO WE ARE BUT WHATEVER WE WANT TO BE!!!</td>\n      <td>Music</td>\n      <td>Music</td>\n      <td>USD</td>\n      <td>2015-08-31</td>\n      <td>3000.0</td>\n      <td>2015-07-13 17:09:24</td>\n      <td>0.00</td>\n      <td>undefined</td>\n      <td>0</td>\n      <td>N,0\"</td>\n      <td>NaN</td>\n      <td>0.00</td>\n      <td>3000.00</td>\n    </tr>\n    <tr>\n      <th>2451</th>\n      <td>1012704793</td>\n      <td>Life In The Bus Lane</td>\n      <td>Film &amp; Video</td>\n      <td>Film &amp; Video</td>\n      <td>USD</td>\n      <td>2014-12-21</td>\n      <td>7500.0</td>\n      <td>2014-11-21 05:09:09</td>\n      <td>9329.00</td>\n      <td>undefined</td>\n      <td>0</td>\n      <td>N,0\"</td>\n      <td>NaN</td>\n      <td>9329.00</td>\n      <td>7500.00</td>\n    </tr>\n    <tr>\n      <th>2457</th>\n      <td>1012744036</td>\n      <td>An Oratorio for our Time - Last Stop Cafe</td>\n      <td>Music</td>\n      <td>Music</td>\n      <td>USD</td>\n      <td>2016-05-26</td>\n      <td>5000.0</td>\n      <td>2016-04-26 19:46:26</td>\n      <td>5170.00</td>\n      <td>successful</td>\n      <td>0</td>\n      <td>N,0\"</td>\n      <td>NaN</td>\n      <td>5170.00</td>\n      <td>5000.00</td>\n    </tr>\n    <tr>\n      <th>2478</th>\n      <td>1012807897</td>\n      <td>Juliet Remembered</td>\n      <td>Film &amp; Video</td>\n      <td>Film &amp; Video</td>\n      <td>GBP</td>\n      <td>2016-02-06</td>\n      <td>6500.0</td>\n      <td>2016-01-07 13:44:33</td>\n      <td>6660.12</td>\n      <td>undefined</td>\n      <td>0</td>\n      <td>N,0\"</td>\n      <td>NaN</td>\n      <td>9660.05</td>\n      <td>9427.80</td>\n    </tr>\n    <tr>\n      <th>2606</th>\n      <td>1013389538</td>\n      <td>Make admission to the London Music Awards cere...</td>\n      <td>Music</td>\n      <td>Music</td>\n      <td>CAD</td>\n      <td>2015-06-09</td>\n      <td>3500.0</td>\n      <td>2015-05-10 15:22:18</td>\n      <td>207.00</td>\n      <td>undefined</td>\n      <td>0</td>\n      <td>N,0\"</td>\n      <td>NaN</td>\n      <td>168.25</td>\n      <td>2844.83</td>\n    </tr>\n    <tr>\n      <th>...</th>\n      <td>...</td>\n      <td>...</td>\n      <td>...</td>\n      <td>...</td>\n      <td>...</td>\n      <td>...</td>\n      <td>...</td>\n      <td>...</td>\n      <td>...</td>\n      <td>...</td>\n      <td>...</td>\n      <td>...</td>\n      <td>...</td>\n      <td>...</td>\n      <td>...</td>\n    </tr>\n    <tr>\n      <th>375347</th>\n      <td>982862687</td>\n      <td>Bydlo - A Novel</td>\n      <td>Publishing</td>\n      <td>Publishing</td>\n      <td>GBP</td>\n      <td>2015-06-01</td>\n      <td>3000.0</td>\n      <td>2015-04-02 12:51:16</td>\n      <td>0.00</td>\n      <td>undefined</td>\n      <td>0</td>\n      <td>N,0\"</td>\n      <td>NaN</td>\n      <td>0.00</td>\n      <td>4599.39</td>\n    </tr>\n    <tr>\n      <th>375359</th>\n      <td>982919439</td>\n      <td>Faith</td>\n      <td>Film &amp; Video</td>\n      <td>Film &amp; Video</td>\n      <td>USD</td>\n      <td>2016-05-06</td>\n      <td>9000.0</td>\n      <td>2016-03-07 04:17:33</td>\n      <td>2.00</td>\n      <td>failed</td>\n      <td>0</td>\n      <td>N,0\"</td>\n      <td>NaN</td>\n      <td>2.00</td>\n      <td>9000.00</td>\n    </tr>\n    <tr>\n      <th>375512</th>\n      <td>983728691</td>\n      <td>The Octopodes' 5th Studio Album!</td>\n      <td>Music</td>\n      <td>Music</td>\n      <td>USD</td>\n      <td>2016-01-05</td>\n      <td>8000.0</td>\n      <td>2015-11-19 23:43:09</td>\n      <td>8025.00</td>\n      <td>undefined</td>\n      <td>0</td>\n      <td>N,0\"</td>\n      <td>NaN</td>\n      <td>8025.00</td>\n      <td>8000.00</td>\n    </tr>\n    <tr>\n      <th>375765</th>\n      <td>985231591</td>\n      <td>TWO FISH</td>\n      <td>Film &amp; Video</td>\n      <td>Film &amp; Video</td>\n      <td>USD</td>\n      <td>2014-05-17</td>\n      <td>8000.0</td>\n      <td>2014-04-21 21:52:55</td>\n      <td>8562.00</td>\n      <td>undefined</td>\n      <td>0</td>\n      <td>N,0\"</td>\n      <td>NaN</td>\n      <td>8562.00</td>\n      <td>8000.00</td>\n    </tr>\n    <tr>\n      <th>375980</th>\n      <td>986253191</td>\n      <td>DEVELOP MAGAZINE FOR THE ARTS, MUSIC, AND DESI...</td>\n      <td>Publishing</td>\n      <td>Publishing</td>\n      <td>USD</td>\n      <td>2015-02-28</td>\n      <td>5000.0</td>\n      <td>2015-01-29 17:43:13</td>\n      <td>0.00</td>\n      <td>undefined</td>\n      <td>0</td>\n      <td>N,0\"</td>\n      <td>NaN</td>\n      <td>0.00</td>\n      <td>5000.00</td>\n    </tr>\n    <tr>\n      <th>376025</th>\n      <td>986471034</td>\n      <td>Help Revival finish their new album, Guidance.</td>\n      <td>Music</td>\n      <td>Music</td>\n      <td>USD</td>\n      <td>2015-05-02</td>\n      <td>2500.0</td>\n      <td>2015-04-03 11:16:00</td>\n      <td>420.00</td>\n      <td>undefined</td>\n      <td>0</td>\n      <td>N,0\"</td>\n      <td>NaN</td>\n      <td>420.00</td>\n      <td>2500.00</td>\n    </tr>\n    <tr>\n      <th>376187</th>\n      <td>98744618</td>\n      <td>Vinyl for Dancing Pigeons!</td>\n      <td>Music</td>\n      <td>Music</td>\n      <td>SEK</td>\n      <td>2016-04-16</td>\n      <td>33000.0</td>\n      <td>2016-03-17 13:42:54</td>\n      <td>1105.00</td>\n      <td>undefined</td>\n      <td>0</td>\n      <td>N,0\"</td>\n      <td>NaN</td>\n      <td>136.19</td>\n      <td>4067.35</td>\n    </tr>\n    <tr>\n      <th>376470</th>\n      <td>988763792</td>\n      <td>Maud Sings Maud: A Musical Betsy-Tacy Companion</td>\n      <td>Music</td>\n      <td>Music</td>\n      <td>USD</td>\n      <td>2015-12-03</td>\n      <td>6500.0</td>\n      <td>2015-10-04 00:55:19</td>\n      <td>7814.00</td>\n      <td>undefined</td>\n      <td>0</td>\n      <td>N,0\"</td>\n      <td>NaN</td>\n      <td>7814.00</td>\n      <td>6500.00</td>\n    </tr>\n    <tr>\n      <th>376560</th>\n      <td>989218116</td>\n      <td>Keep on Movin' - The Debut Album</td>\n      <td>Music</td>\n      <td>Music</td>\n      <td>GBP</td>\n      <td>2014-11-19</td>\n      <td>1300.0</td>\n      <td>2014-10-22 22:22:14</td>\n      <td>2.00</td>\n      <td>undefined</td>\n      <td>0</td>\n      <td>N,0\"</td>\n      <td>NaN</td>\n      <td>3.14</td>\n      <td>2038.70</td>\n    </tr>\n    <tr>\n      <th>376603</th>\n      <td>989499289</td>\n      <td>Sojourner</td>\n      <td>Music</td>\n      <td>Music</td>\n      <td>USD</td>\n      <td>2016-04-11</td>\n      <td>2500.0</td>\n      <td>2016-03-12 23:22:51</td>\n      <td>80.00</td>\n      <td>undefined</td>\n      <td>0</td>\n      <td>N,0\"</td>\n      <td>NaN</td>\n      <td>80.00</td>\n      <td>2500.00</td>\n    </tr>\n    <tr>\n      <th>376674</th>\n      <td>989874415</td>\n      <td>Love and Soul through Sound</td>\n      <td>Music</td>\n      <td>Music</td>\n      <td>USD</td>\n      <td>2015-06-27</td>\n      <td>3000.0</td>\n      <td>2015-05-28 17:17:08</td>\n      <td>45.00</td>\n      <td>undefined</td>\n      <td>0</td>\n      <td>N,0\"</td>\n      <td>NaN</td>\n      <td>45.00</td>\n      <td>3000.00</td>\n    </tr>\n    <tr>\n      <th>376970</th>\n      <td>991409513</td>\n      <td>Chris Copeland's First EP</td>\n      <td>Music</td>\n      <td>Music</td>\n      <td>USD</td>\n      <td>2015-02-28</td>\n      <td>5500.0</td>\n      <td>2015-01-29 02:58:24</td>\n      <td>5763.00</td>\n      <td>undefined</td>\n      <td>0</td>\n      <td>N,0\"</td>\n      <td>NaN</td>\n      <td>5763.00</td>\n      <td>5500.00</td>\n    </tr>\n    <tr>\n      <th>376984</th>\n      <td>991483230</td>\n      <td>Support Vocal Synergy's Second Semester and Te...</td>\n      <td>Music</td>\n      <td>Music</td>\n      <td>USD</td>\n      <td>2015-12-20</td>\n      <td>3400.0</td>\n      <td>2015-12-05 05:10:10</td>\n      <td>3435.00</td>\n      <td>undefined</td>\n      <td>0</td>\n      <td>N,0\"</td>\n      <td>NaN</td>\n      <td>3435.00</td>\n      <td>3400.00</td>\n    </tr>\n    <tr>\n      <th>377043</th>\n      <td>991820324</td>\n      <td>The Blend CD 2015</td>\n      <td>Music</td>\n      <td>Music</td>\n      <td>USD</td>\n      <td>2015-05-15</td>\n      <td>8000.0</td>\n      <td>2015-04-15 00:07:51</td>\n      <td>8156.00</td>\n      <td>undefined</td>\n      <td>0</td>\n      <td>N,0\"</td>\n      <td>NaN</td>\n      <td>8156.00</td>\n      <td>8000.00</td>\n    </tr>\n    <tr>\n      <th>377158</th>\n      <td>992433603</td>\n      <td>Jonny Come Lately</td>\n      <td>Film &amp; Video</td>\n      <td>Film &amp; Video</td>\n      <td>USD</td>\n      <td>2014-12-24</td>\n      <td>8500.0</td>\n      <td>2014-11-24 20:47:45</td>\n      <td>9146.00</td>\n      <td>undefined</td>\n      <td>0</td>\n      <td>N,0\"</td>\n      <td>NaN</td>\n      <td>9146.00</td>\n      <td>8500.00</td>\n    </tr>\n    <tr>\n      <th>377472</th>\n      <td>994080962</td>\n      <td>Maximum Coppage</td>\n      <td>Film &amp; Video</td>\n      <td>Film &amp; Video</td>\n      <td>USD</td>\n      <td>2014-08-19</td>\n      <td>3000.0</td>\n      <td>2014-07-18 03:42:11</td>\n      <td>3175.00</td>\n      <td>undefined</td>\n      <td>0</td>\n      <td>N,0\"</td>\n      <td>NaN</td>\n      <td>3175.00</td>\n      <td>3000.00</td>\n    </tr>\n    <tr>\n      <th>377569</th>\n      <td>994621918</td>\n      <td>Star Sailor</td>\n      <td>Film &amp; Video</td>\n      <td>Film &amp; Video</td>\n      <td>USD</td>\n      <td>2016-01-01</td>\n      <td>8000.0</td>\n      <td>2015-12-03 20:25:41</td>\n      <td>8061.00</td>\n      <td>undefined</td>\n      <td>0</td>\n      <td>N,0\"</td>\n      <td>NaN</td>\n      <td>8061.00</td>\n      <td>8000.00</td>\n    </tr>\n    <tr>\n      <th>377638</th>\n      <td>994911312</td>\n      <td>\"Songwriter assistance\" service</td>\n      <td>Music</td>\n      <td>Music</td>\n      <td>CAD</td>\n      <td>2014-12-22</td>\n      <td>5000.0</td>\n      <td>2014-11-22 00:56:04</td>\n      <td>0.00</td>\n      <td>undefined</td>\n      <td>0</td>\n      <td>N,0\"</td>\n      <td>NaN</td>\n      <td>0.00</td>\n      <td>4313.32</td>\n    </tr>\n    <tr>\n      <th>377640</th>\n      <td>994933706</td>\n      <td>Whiskey and Holy Water</td>\n      <td>Music</td>\n      <td>Music</td>\n      <td>USD</td>\n      <td>2015-05-11</td>\n      <td>6500.0</td>\n      <td>2015-03-25 03:55:53</td>\n      <td>6696.00</td>\n      <td>undefined</td>\n      <td>0</td>\n      <td>N,0\"</td>\n      <td>NaN</td>\n      <td>6696.00</td>\n      <td>6500.00</td>\n    </tr>\n    <tr>\n      <th>377872</th>\n      <td>99613274</td>\n      <td>Double EP and Music Video Fundraiser</td>\n      <td>Music</td>\n      <td>Music</td>\n      <td>GBP</td>\n      <td>2015-12-02</td>\n      <td>3000.0</td>\n      <td>2015-11-02 09:33:38</td>\n      <td>3517.00</td>\n      <td>undefined</td>\n      <td>0</td>\n      <td>N,0\"</td>\n      <td>NaN</td>\n      <td>5324.59</td>\n      <td>4541.88</td>\n    </tr>\n    <tr>\n      <th>378011</th>\n      <td>996908566</td>\n      <td>The World Needs More Big Thinkers</td>\n      <td>Publishing</td>\n      <td>Publishing</td>\n      <td>USD</td>\n      <td>2015-09-13</td>\n      <td>8000.0</td>\n      <td>2015-07-30 03:01:31</td>\n      <td>0.00</td>\n      <td>undefined</td>\n      <td>0</td>\n      <td>N,0\"</td>\n      <td>NaN</td>\n      <td>0.00</td>\n      <td>8000.00</td>\n    </tr>\n    <tr>\n      <th>378100</th>\n      <td>99739483</td>\n      <td>No More Fear</td>\n      <td>Music</td>\n      <td>Music</td>\n      <td>GBP</td>\n      <td>2016-04-17</td>\n      <td>2500.0</td>\n      <td>2016-03-17 13:43:26</td>\n      <td>2500.00</td>\n      <td>undefined</td>\n      <td>0</td>\n      <td>N,0\"</td>\n      <td>NaN</td>\n      <td>3594.48</td>\n      <td>3594.48</td>\n    </tr>\n    <tr>\n      <th>378142</th>\n      <td>997554968</td>\n      <td>Susan Picking: Making Music with Kids in the S...</td>\n      <td>Music</td>\n      <td>Music</td>\n      <td>USD</td>\n      <td>2015-03-01</td>\n      <td>8000.0</td>\n      <td>2015-01-31 20:58:01</td>\n      <td>8582.00</td>\n      <td>undefined</td>\n      <td>0</td>\n      <td>N,0\"</td>\n      <td>NaN</td>\n      <td>8582.00</td>\n      <td>8000.00</td>\n    </tr>\n    <tr>\n      <th>378188</th>\n      <td>997793413</td>\n      <td>Whisper Violet - Honors Senior Thesis Film</td>\n      <td>Film &amp; Video</td>\n      <td>Film &amp; Video</td>\n      <td>USD</td>\n      <td>2016-05-14</td>\n      <td>2000.0</td>\n      <td>2016-04-14 01:27:27</td>\n      <td>2300.00</td>\n      <td>successful</td>\n      <td>0</td>\n      <td>N,0\"</td>\n      <td>NaN</td>\n      <td>2300.00</td>\n      <td>2000.00</td>\n    </tr>\n    <tr>\n      <th>378219</th>\n      <td>997915422</td>\n      <td>Otter's First Full Length Album</td>\n      <td>Music</td>\n      <td>Music</td>\n      <td>USD</td>\n      <td>2015-12-31</td>\n      <td>5000.0</td>\n      <td>2015-12-01 00:25:06</td>\n      <td>6065.26</td>\n      <td>undefined</td>\n      <td>0</td>\n      <td>N,0\"</td>\n      <td>NaN</td>\n      <td>6065.26</td>\n      <td>5000.00</td>\n    </tr>\n    <tr>\n      <th>378233</th>\n      <td>997971307</td>\n      <td>EQUUS International Film Festival®, all-equine...</td>\n      <td>Film &amp; Video</td>\n      <td>Film &amp; Video</td>\n      <td>USD</td>\n      <td>2015-02-03</td>\n      <td>7500.0</td>\n      <td>2014-12-05 04:19:14</td>\n      <td>10.00</td>\n      <td>undefined</td>\n      <td>0</td>\n      <td>N,0\"</td>\n      <td>NaN</td>\n      <td>10.00</td>\n      <td>7500.00</td>\n    </tr>\n    <tr>\n      <th>378303</th>\n      <td>998319149</td>\n      <td>Emily 2050 - Short Film</td>\n      <td>Film &amp; Video</td>\n      <td>Film &amp; Video</td>\n      <td>CAD</td>\n      <td>2014-05-23</td>\n      <td>3000.0</td>\n      <td>2014-04-08 00:30:09</td>\n      <td>3102.00</td>\n      <td>undefined</td>\n      <td>0</td>\n      <td>N,0\"</td>\n      <td>NaN</td>\n      <td>2845.61</td>\n      <td>2752.04</td>\n    </tr>\n    <tr>\n      <th>378434</th>\n      <td>9988744</td>\n      <td>Matthew Stephens Music</td>\n      <td>Music</td>\n      <td>Music</td>\n      <td>USD</td>\n      <td>2016-02-05</td>\n      <td>5000.0</td>\n      <td>2016-01-06 21:59:23</td>\n      <td>235.00</td>\n      <td>undefined</td>\n      <td>0</td>\n      <td>N,0\"</td>\n      <td>NaN</td>\n      <td>235.00</td>\n      <td>5000.00</td>\n    </tr>\n    <tr>\n      <th>378585</th>\n      <td>999610349</td>\n      <td>Lady Vendredi: Afrofuturist concept 12 inch EP</td>\n      <td>Music</td>\n      <td>Music</td>\n      <td>GBP</td>\n      <td>2015-10-19</td>\n      <td>2000.0</td>\n      <td>2015-09-21 22:33:18</td>\n      <td>2125.00</td>\n      <td>undefined</td>\n      <td>0</td>\n      <td>N,0\"</td>\n      <td>NaN</td>\n      <td>3273.36</td>\n      <td>3080.81</td>\n    </tr>\n    <tr>\n      <th>378588</th>\n      <td>999621278</td>\n      <td>Jeune auteur a besoin de vous!</td>\n      <td>Publishing</td>\n      <td>Publishing</td>\n      <td>EUR</td>\n      <td>2015-11-20</td>\n      <td>1600.0</td>\n      <td>2015-10-21 21:28:13</td>\n      <td>0.00</td>\n      <td>undefined</td>\n      <td>0</td>\n      <td>N,0\"</td>\n      <td>NaN</td>\n      <td>0.00</td>\n      <td>1710.08</td>\n    </tr>\n  </tbody>\n</table>\n<p>3801 rows × 15 columns</p>\n</div>"
     },
     "metadata": {},
     "execution_count": 82
    }
   ],
   "source": []
  },
  {
   "cell_type": "code",
   "execution_count": 83,
   "metadata": {},
   "outputs": [
    {
     "output_type": "execute_result",
     "data": {
      "text/plain": [
       "ID                  False\n",
       "name                 True\n",
       "category            False\n",
       "main_category       False\n",
       "currency            False\n",
       "deadline            False\n",
       "goal                False\n",
       "launched            False\n",
       "pledged             False\n",
       "state               False\n",
       "backers             False\n",
       "country             False\n",
       "usd pledged          True\n",
       "usd_pledged_real    False\n",
       "usd_goal_real       False\n",
       "dtype: bool"
      ]
     },
     "metadata": {},
     "execution_count": 83
    }
   ],
   "source": [
    "# see columns with a nan \n",
    "# data[data.isnull().any(axis=1)]\n",
    "data.isna().any()"
   ]
  },
  {
   "cell_type": "code",
   "execution_count": 121,
   "metadata": {},
   "outputs": [],
   "source": [
    "# Drop NA\n",
    "class DataSampleDropper(BaseEstimator, TransformerMixin):\n",
    "    def __init__(self):\n",
    "        pass\n",
    "    def fit(self, x, y=None):\n",
    "        return self\n",
    "    def transform(self, X):\n",
    "        return X.dropna(how='any')\n",
    "\n",
    "# Drop Live Campaign\n",
    "class DropLive(BaseEstimator, TransformerMixin):\n",
    "    def __init__(self):\n",
    "        pass\n",
    "    def fit(self, x, y=None):\n",
    "        return self\n",
    "    def transform(self, X):\n",
    "        return  X[X['state'] != 'live']"
   ]
  },
  {
   "cell_type": "code",
   "execution_count": 122,
   "metadata": {},
   "outputs": [
    {
     "output_type": "execute_result",
     "data": {
      "text/plain": [
       "           ID                                               name  \\\n",
       "0  1000002330                    The Songs of Adelaide & Abullah   \n",
       "1  1000003930      Greeting From Earth: ZGAC Arts Capsule For ET   \n",
       "2  1000004038                                     Where is Hank?   \n",
       "3  1000007540  ToshiCapital Rekordz Needs Help to Complete Album   \n",
       "4  1000011046  Community Film Project: The Art of Neighborhoo...   \n",
       "\n",
       "         category main_category currency    deadline     goal  \\\n",
       "0          Poetry    Publishing      GBP  2015-10-09   1000.0   \n",
       "1  Narrative Film  Film & Video      USD  2017-11-01  30000.0   \n",
       "2  Narrative Film  Film & Video      USD  2013-02-26  45000.0   \n",
       "3           Music         Music      USD  2012-04-16   5000.0   \n",
       "4    Film & Video  Film & Video      USD  2015-08-29  19500.0   \n",
       "\n",
       "              launched  pledged     state  backers country  usd pledged  \\\n",
       "0  2015-08-11 12:12:28      0.0    failed        0      GB          0.0   \n",
       "1  2017-09-02 04:43:57   2421.0    failed       15      US        100.0   \n",
       "2  2013-01-12 00:20:50    220.0    failed        3      US        220.0   \n",
       "3  2012-03-17 03:24:11      1.0    failed        1      US          1.0   \n",
       "4  2015-07-04 08:35:03   1283.0  canceled       14      US       1283.0   \n",
       "\n",
       "   usd_pledged_real  usd_goal_real  \n",
       "0               0.0        1533.95  \n",
       "1            2421.0       30000.00  \n",
       "2             220.0       45000.00  \n",
       "3               1.0        5000.00  \n",
       "4            1283.0       19500.00  "
      ],
      "text/html": "<div>\n<style scoped>\n    .dataframe tbody tr th:only-of-type {\n        vertical-align: middle;\n    }\n\n    .dataframe tbody tr th {\n        vertical-align: top;\n    }\n\n    .dataframe thead th {\n        text-align: right;\n    }\n</style>\n<table border=\"1\" class=\"dataframe\">\n  <thead>\n    <tr style=\"text-align: right;\">\n      <th></th>\n      <th>ID</th>\n      <th>name</th>\n      <th>category</th>\n      <th>main_category</th>\n      <th>currency</th>\n      <th>deadline</th>\n      <th>goal</th>\n      <th>launched</th>\n      <th>pledged</th>\n      <th>state</th>\n      <th>backers</th>\n      <th>country</th>\n      <th>usd pledged</th>\n      <th>usd_pledged_real</th>\n      <th>usd_goal_real</th>\n    </tr>\n  </thead>\n  <tbody>\n    <tr>\n      <th>0</th>\n      <td>1000002330</td>\n      <td>The Songs of Adelaide &amp; Abullah</td>\n      <td>Poetry</td>\n      <td>Publishing</td>\n      <td>GBP</td>\n      <td>2015-10-09</td>\n      <td>1000.0</td>\n      <td>2015-08-11 12:12:28</td>\n      <td>0.0</td>\n      <td>failed</td>\n      <td>0</td>\n      <td>GB</td>\n      <td>0.0</td>\n      <td>0.0</td>\n      <td>1533.95</td>\n    </tr>\n    <tr>\n      <th>1</th>\n      <td>1000003930</td>\n      <td>Greeting From Earth: ZGAC Arts Capsule For ET</td>\n      <td>Narrative Film</td>\n      <td>Film &amp; Video</td>\n      <td>USD</td>\n      <td>2017-11-01</td>\n      <td>30000.0</td>\n      <td>2017-09-02 04:43:57</td>\n      <td>2421.0</td>\n      <td>failed</td>\n      <td>15</td>\n      <td>US</td>\n      <td>100.0</td>\n      <td>2421.0</td>\n      <td>30000.00</td>\n    </tr>\n    <tr>\n      <th>2</th>\n      <td>1000004038</td>\n      <td>Where is Hank?</td>\n      <td>Narrative Film</td>\n      <td>Film &amp; Video</td>\n      <td>USD</td>\n      <td>2013-02-26</td>\n      <td>45000.0</td>\n      <td>2013-01-12 00:20:50</td>\n      <td>220.0</td>\n      <td>failed</td>\n      <td>3</td>\n      <td>US</td>\n      <td>220.0</td>\n      <td>220.0</td>\n      <td>45000.00</td>\n    </tr>\n    <tr>\n      <th>3</th>\n      <td>1000007540</td>\n      <td>ToshiCapital Rekordz Needs Help to Complete Album</td>\n      <td>Music</td>\n      <td>Music</td>\n      <td>USD</td>\n      <td>2012-04-16</td>\n      <td>5000.0</td>\n      <td>2012-03-17 03:24:11</td>\n      <td>1.0</td>\n      <td>failed</td>\n      <td>1</td>\n      <td>US</td>\n      <td>1.0</td>\n      <td>1.0</td>\n      <td>5000.00</td>\n    </tr>\n    <tr>\n      <th>4</th>\n      <td>1000011046</td>\n      <td>Community Film Project: The Art of Neighborhoo...</td>\n      <td>Film &amp; Video</td>\n      <td>Film &amp; Video</td>\n      <td>USD</td>\n      <td>2015-08-29</td>\n      <td>19500.0</td>\n      <td>2015-07-04 08:35:03</td>\n      <td>1283.0</td>\n      <td>canceled</td>\n      <td>14</td>\n      <td>US</td>\n      <td>1283.0</td>\n      <td>1283.0</td>\n      <td>19500.00</td>\n    </tr>\n  </tbody>\n</table>\n</div>"
     },
     "metadata": {},
     "execution_count": 122
    }
   ],
   "source": [
    "pipe1 = Pipeline([\n",
    "    # Drop NA rows\n",
    "    (\"dropna\", DataSampleDropper()),\n",
    "    # Drop rows that are live (ie we don't know how to evaluate them)\n",
    "    (\"droplive\", DropLive())\n",
    "    # Add a nice string to column encoder here\n",
    "])\n",
    "preprocessed_data = pipe1.fit_transform(data)\n",
    "preprocessed_data.head()"
   ]
  },
  {
   "cell_type": "code",
   "execution_count": 123,
   "metadata": {},
   "outputs": [
    {
     "output_type": "execute_result",
     "data": {
      "text/plain": [
       "           ID                                               name  \\\n",
       "0  1000002330                    The Songs of Adelaide & Abullah   \n",
       "1  1000003930      Greeting From Earth: ZGAC Arts Capsule For ET   \n",
       "2  1000004038                                     Where is Hank?   \n",
       "3  1000007540  ToshiCapital Rekordz Needs Help to Complete Album   \n",
       "4  1000011046  Community Film Project: The Art of Neighborhoo...   \n",
       "\n",
       "         category main_category currency    deadline     goal  \\\n",
       "0          Poetry    Publishing      GBP  2015-10-09   1000.0   \n",
       "1  Narrative Film  Film & Video      USD  2017-11-01  30000.0   \n",
       "2  Narrative Film  Film & Video      USD  2013-02-26  45000.0   \n",
       "3           Music         Music      USD  2012-04-16   5000.0   \n",
       "4    Film & Video  Film & Video      USD  2015-08-29  19500.0   \n",
       "\n",
       "              launched  backers country  \n",
       "0  2015-08-11 12:12:28        0      GB  \n",
       "1  2017-09-02 04:43:57       15      US  \n",
       "2  2013-01-12 00:20:50        3      US  \n",
       "3  2012-03-17 03:24:11        1      US  \n",
       "4  2015-07-04 08:35:03       14      US  "
      ],
      "text/html": "<div>\n<style scoped>\n    .dataframe tbody tr th:only-of-type {\n        vertical-align: middle;\n    }\n\n    .dataframe tbody tr th {\n        vertical-align: top;\n    }\n\n    .dataframe thead th {\n        text-align: right;\n    }\n</style>\n<table border=\"1\" class=\"dataframe\">\n  <thead>\n    <tr style=\"text-align: right;\">\n      <th></th>\n      <th>ID</th>\n      <th>name</th>\n      <th>category</th>\n      <th>main_category</th>\n      <th>currency</th>\n      <th>deadline</th>\n      <th>goal</th>\n      <th>launched</th>\n      <th>backers</th>\n      <th>country</th>\n    </tr>\n  </thead>\n  <tbody>\n    <tr>\n      <th>0</th>\n      <td>1000002330</td>\n      <td>The Songs of Adelaide &amp; Abullah</td>\n      <td>Poetry</td>\n      <td>Publishing</td>\n      <td>GBP</td>\n      <td>2015-10-09</td>\n      <td>1000.0</td>\n      <td>2015-08-11 12:12:28</td>\n      <td>0</td>\n      <td>GB</td>\n    </tr>\n    <tr>\n      <th>1</th>\n      <td>1000003930</td>\n      <td>Greeting From Earth: ZGAC Arts Capsule For ET</td>\n      <td>Narrative Film</td>\n      <td>Film &amp; Video</td>\n      <td>USD</td>\n      <td>2017-11-01</td>\n      <td>30000.0</td>\n      <td>2017-09-02 04:43:57</td>\n      <td>15</td>\n      <td>US</td>\n    </tr>\n    <tr>\n      <th>2</th>\n      <td>1000004038</td>\n      <td>Where is Hank?</td>\n      <td>Narrative Film</td>\n      <td>Film &amp; Video</td>\n      <td>USD</td>\n      <td>2013-02-26</td>\n      <td>45000.0</td>\n      <td>2013-01-12 00:20:50</td>\n      <td>3</td>\n      <td>US</td>\n    </tr>\n    <tr>\n      <th>3</th>\n      <td>1000007540</td>\n      <td>ToshiCapital Rekordz Needs Help to Complete Album</td>\n      <td>Music</td>\n      <td>Music</td>\n      <td>USD</td>\n      <td>2012-04-16</td>\n      <td>5000.0</td>\n      <td>2012-03-17 03:24:11</td>\n      <td>1</td>\n      <td>US</td>\n    </tr>\n    <tr>\n      <th>4</th>\n      <td>1000011046</td>\n      <td>Community Film Project: The Art of Neighborhoo...</td>\n      <td>Film &amp; Video</td>\n      <td>Film &amp; Video</td>\n      <td>USD</td>\n      <td>2015-08-29</td>\n      <td>19500.0</td>\n      <td>2015-07-04 08:35:03</td>\n      <td>14</td>\n      <td>US</td>\n    </tr>\n  </tbody>\n</table>\n</div>"
     },
     "metadata": {},
     "execution_count": 123
    }
   ],
   "source": [
    "X = preprocessed_data.drop(columns=['usd pledged', 'usd_pledged_real', 'usd_goal_real','pledged', 'state'])\n",
    "X.head()"
   ]
  },
  {
   "cell_type": "code",
   "execution_count": 142,
   "metadata": {},
   "outputs": [
    {
     "output_type": "execute_result",
     "data": {
      "text/plain": [
       "array(['canceled', 'failed', 'successful', 'suspended'], dtype=object)"
      ]
     },
     "metadata": {},
     "execution_count": 142
    }
   ],
   "source": [
    "# Get our labels\n",
    "le = LabelEncoder()\n",
    "y = le.fit_transform(preprocessed_data['state'])\n",
    "le.classes_"
   ]
  },
  {
   "cell_type": "code",
   "execution_count": 144,
   "metadata": {},
   "outputs": [],
   "source": [
    "# Only looking for successful projects\n",
    "y = [l==2 for l in y]"
   ]
  },
  {
   "cell_type": "code",
   "execution_count": 152,
   "metadata": {},
   "outputs": [
    {
     "output_type": "execute_result",
     "data": {
      "text/plain": [
       "[False, False, False, False, False, True]"
      ]
     },
     "metadata": {},
     "execution_count": 152
    }
   ],
   "source": [
    "y[:6]"
   ]
  },
  {
   "source": [
    "# Partioning Data"
   ],
   "cell_type": "markdown",
   "metadata": {}
  },
  {
   "cell_type": "code",
   "execution_count": 161,
   "metadata": {},
   "outputs": [
    {
     "output_type": "execute_result",
     "data": {
      "text/plain": [
       "260443"
      ]
     },
     "metadata": {},
     "execution_count": 161
    }
   ],
   "source": [
    "cutoff = int(np.shape(X)[0] * .7)\n",
    "cutoff"
   ]
  },
  {
   "cell_type": "code",
   "execution_count": 166,
   "metadata": {},
   "outputs": [
    {
     "output_type": "execute_result",
     "data": {
      "text/plain": [
       "               ID                                               name  \\\n",
       "265026  418250698                           Wishing Tree for the 99%   \n",
       "265027  418254721    The Skyline Social presents: Steve - The Record   \n",
       "265028  418257153  Freakin' Smooches: Adventures in First Kisses ...   \n",
       "265029   41826747                               PowManok: Volume One   \n",
       "265030  418271938                 Help Dead By Wednesday Go On Tour!   \n",
       "\n",
       "          category main_category currency    deadline    goal  \\\n",
       "265026  Public Art           Art      USD  2012-04-05   330.0   \n",
       "265027         Pop         Music      USD  2015-06-26   750.0   \n",
       "265028      Comics        Comics      USD  2011-05-23  5000.0   \n",
       "265029   Animation  Film & Video      USD  2015-04-15  5500.0   \n",
       "265030        Rock         Music      USD  2012-10-25  1500.0   \n",
       "\n",
       "                   launched  backers country  \n",
       "265026  2012-03-22 00:20:10       24      US  \n",
       "265027  2015-05-27 19:32:40       16      US  \n",
       "265028  2011-04-23 22:05:38       13      US  \n",
       "265029  2015-03-15 23:57:50        1      US  \n",
       "265030  2012-10-04 18:45:10       33      US  "
      ],
      "text/html": "<div>\n<style scoped>\n    .dataframe tbody tr th:only-of-type {\n        vertical-align: middle;\n    }\n\n    .dataframe tbody tr th {\n        vertical-align: top;\n    }\n\n    .dataframe thead th {\n        text-align: right;\n    }\n</style>\n<table border=\"1\" class=\"dataframe\">\n  <thead>\n    <tr style=\"text-align: right;\">\n      <th></th>\n      <th>ID</th>\n      <th>name</th>\n      <th>category</th>\n      <th>main_category</th>\n      <th>currency</th>\n      <th>deadline</th>\n      <th>goal</th>\n      <th>launched</th>\n      <th>backers</th>\n      <th>country</th>\n    </tr>\n  </thead>\n  <tbody>\n    <tr>\n      <th>265026</th>\n      <td>418250698</td>\n      <td>Wishing Tree for the 99%</td>\n      <td>Public Art</td>\n      <td>Art</td>\n      <td>USD</td>\n      <td>2012-04-05</td>\n      <td>330.0</td>\n      <td>2012-03-22 00:20:10</td>\n      <td>24</td>\n      <td>US</td>\n    </tr>\n    <tr>\n      <th>265027</th>\n      <td>418254721</td>\n      <td>The Skyline Social presents: Steve - The Record</td>\n      <td>Pop</td>\n      <td>Music</td>\n      <td>USD</td>\n      <td>2015-06-26</td>\n      <td>750.0</td>\n      <td>2015-05-27 19:32:40</td>\n      <td>16</td>\n      <td>US</td>\n    </tr>\n    <tr>\n      <th>265028</th>\n      <td>418257153</td>\n      <td>Freakin' Smooches: Adventures in First Kisses ...</td>\n      <td>Comics</td>\n      <td>Comics</td>\n      <td>USD</td>\n      <td>2011-05-23</td>\n      <td>5000.0</td>\n      <td>2011-04-23 22:05:38</td>\n      <td>13</td>\n      <td>US</td>\n    </tr>\n    <tr>\n      <th>265029</th>\n      <td>41826747</td>\n      <td>PowManok: Volume One</td>\n      <td>Animation</td>\n      <td>Film &amp; Video</td>\n      <td>USD</td>\n      <td>2015-04-15</td>\n      <td>5500.0</td>\n      <td>2015-03-15 23:57:50</td>\n      <td>1</td>\n      <td>US</td>\n    </tr>\n    <tr>\n      <th>265030</th>\n      <td>418271938</td>\n      <td>Help Dead By Wednesday Go On Tour!</td>\n      <td>Rock</td>\n      <td>Music</td>\n      <td>USD</td>\n      <td>2012-10-25</td>\n      <td>1500.0</td>\n      <td>2012-10-04 18:45:10</td>\n      <td>33</td>\n      <td>US</td>\n    </tr>\n  </tbody>\n</table>\n</div>"
     },
     "metadata": {},
     "execution_count": 166
    }
   ],
   "source": [
    "x_labels = X.columns\n",
    "x_train = X[:cutoff]\n",
    "x_test = X[cutoff:]\n",
    "\n",
    "y_train = y[:cutoff]\n",
    "y_test = y[cutoff:]"
   ]
  },
  {
   "cell_type": "code",
   "execution_count": null,
   "metadata": {},
   "outputs": [],
   "source": []
  }
 ]
}